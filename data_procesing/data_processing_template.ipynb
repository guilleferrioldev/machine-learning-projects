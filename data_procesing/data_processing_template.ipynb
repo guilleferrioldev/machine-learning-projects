{
 "cells": [
  {
   "cell_type": "markdown",
   "metadata": {},
   "source": [
    "Import libraries and dataset"
   ]
  },
  {
   "cell_type": "code",
   "execution_count": null,
   "metadata": {},
   "outputs": [],
   "source": [
    "import numpy as np\n",
    "import matplotlib as plt\n",
    "import pandas as pd\n",
    "\n",
    "dataset = pd.read_csv(\"Data.csv\")\n",
    "\n",
    "# Separate the matrix from the independent terms\n",
    "data_matrix = dataset.iloc[:, :-1].values\n",
    "independent_terms = dataset.iloc[:, 3].values\n",
    "\n",
    "pd.DataFrame(dataset)"
   ]
  },
  {
   "cell_type": "markdown",
   "metadata": {},
   "source": [
    "Treatment of NAs"
   ]
  },
  {
   "cell_type": "code",
   "execution_count": null,
   "metadata": {},
   "outputs": [],
   "source": [
    "from sklearn.impute import SimpleImputer \n",
    "\n",
    "# NaN values ​​will be replaced by the mean\n",
    "imputer = SimpleImputer(missing_values = np.nan, strategy = \"mean\")\n",
    "\n",
    "# I am going to use the passed object to apply it to the data matrix\n",
    "# the columns of 1:3 because the strings do not have mean\n",
    "imputer.fit(data_matrix[:, 1:3])\n",
    "\n",
    "# The data matrix will now be equal to the transformed matrix\n",
    "data_matrix[:, 1:3] = imputer.transform(data_matrix[:,1:3])\n",
    "\n",
    "pd.DataFrame(data_matrix)"
   ]
  },
  {
   "cell_type": "markdown",
   "metadata": {},
   "source": [
    "Encode categorical data"
   ]
  },
  {
   "cell_type": "code",
   "execution_count": null,
   "metadata": {},
   "outputs": [],
   "source": [
    "from sklearn.preprocessing import LabelEncoder, OneHotEncoder\n",
    "from sklearn.compose import ColumnTransformer\n",
    "\n",
    "# Create a data encoder\n",
    "labelencoder_data = LabelEncoder()\n",
    "\n",
    "# Transform the columns that are categories and transform them to numerical data. In this case the names of the countries\n",
    "data_matrix[:, 0] = labelencoder_data.fit_transform(data_matrix[:, 0])\n",
    "\n",
    "# ! Making this transformation has a problem, the countries do not have an order. That is why the \"One Hot\" technique is used where we will have a vector for\n",
    "# each variable that we have in the dataset. This is used to represent categorical variables in the form of binary vectors. These are called \"dummy variables.\"\n",
    "\n",
    "# Select the first column \n",
    "column_transform = ColumnTransformer([('one_hot_encoder', OneHotEncoder(categories='auto'), [0])],  remainder='passthrough')\n",
    "\n",
    "# Transform it\n",
    "data_matrix = column_transform.fit_transform(data_matrix)\n",
    "\n",
    "# Create a data encoder for the column of independent terms\n",
    "labelencoder_ind_terms = LabelEncoder()\n",
    "\n",
    "# Transform it\n",
    "independent_terms = labelencoder_ind_terms.fit_transform(independent_terms)\n",
    "\n",
    "pd.DataFrame(data_matrix), pd.DataFrame(independent_terms)"
   ]
  },
  {
   "cell_type": "markdown",
   "metadata": {},
   "source": [
    "Divide the dataset into training and testing set"
   ]
  },
  {
   "cell_type": "code",
   "execution_count": null,
   "metadata": {},
   "outputs": [],
   "source": [
    "from sklearn.model_selection import train_test_split\n",
    "\n",
    "# 20% of the data will be used for testing. random_state = 2 it is so that the algorithm always divides equally\n",
    "X_train, X_test, Y_train, Y_test  = train_test_split(data_matrix, independent_terms, test_size = 0.2, random_state = 0)"
   ]
  }
 ],
 "metadata": {
  "kernelspec": {
   "display_name": "Python 3",
   "language": "python",
   "name": "python3"
  },
  "language_info": {
   "codemirror_mode": {
    "name": "ipython",
    "version": 3
   },
   "file_extension": ".py",
   "mimetype": "text/x-python",
   "name": "python",
   "nbconvert_exporter": "python",
   "pygments_lexer": "ipython3",
   "version": "3.11.5"
  },
  "orig_nbformat": 4
 },
 "nbformat": 4,
 "nbformat_minor": 2
}
