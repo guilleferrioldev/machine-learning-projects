{
 "cells": [
  {
   "cell_type": "markdown",
   "metadata": {},
   "source": [
    "Import libraries"
   ]
  },
  {
   "cell_type": "code",
   "execution_count": 129,
   "metadata": {},
   "outputs": [],
   "source": [
    "import pandas as pd \n",
    "import seaborn as sns"
   ]
  },
  {
   "cell_type": "markdown",
   "metadata": {},
   "source": [
    "Import dataset"
   ]
  },
  {
   "cell_type": "code",
   "execution_count": 130,
   "metadata": {},
   "outputs": [
    {
     "data": {
      "text/html": [
       "<div>\n",
       "<style scoped>\n",
       "    .dataframe tbody tr th:only-of-type {\n",
       "        vertical-align: middle;\n",
       "    }\n",
       "\n",
       "    .dataframe tbody tr th {\n",
       "        vertical-align: top;\n",
       "    }\n",
       "\n",
       "    .dataframe thead th {\n",
       "        text-align: right;\n",
       "    }\n",
       "</style>\n",
       "<table border=\"1\" class=\"dataframe\">\n",
       "  <thead>\n",
       "    <tr style=\"text-align: right;\">\n",
       "      <th></th>\n",
       "      <th>sex</th>\n",
       "      <th>weight (kg)</th>\n",
       "      <th>height (cm)</th>\n",
       "    </tr>\n",
       "  </thead>\n",
       "  <tbody>\n",
       "    <tr>\n",
       "      <th>0</th>\n",
       "      <td>femenino</td>\n",
       "      <td>60.0</td>\n",
       "      <td>160.0</td>\n",
       "    </tr>\n",
       "    <tr>\n",
       "      <th>1</th>\n",
       "      <td>masculino</td>\n",
       "      <td>69.0</td>\n",
       "      <td>170.0</td>\n",
       "    </tr>\n",
       "    <tr>\n",
       "      <th>2</th>\n",
       "      <td>masculino</td>\n",
       "      <td>73.0</td>\n",
       "      <td>167.0</td>\n",
       "    </tr>\n",
       "    <tr>\n",
       "      <th>3</th>\n",
       "      <td>NaN</td>\n",
       "      <td>81.0</td>\n",
       "      <td>170.0</td>\n",
       "    </tr>\n",
       "    <tr>\n",
       "      <th>4</th>\n",
       "      <td>masculino</td>\n",
       "      <td>80.0</td>\n",
       "      <td>170.0</td>\n",
       "    </tr>\n",
       "    <tr>\n",
       "      <th>...</th>\n",
       "      <td>...</td>\n",
       "      <td>...</td>\n",
       "      <td>...</td>\n",
       "    </tr>\n",
       "    <tr>\n",
       "      <th>595</th>\n",
       "      <td>femenino</td>\n",
       "      <td>65.0</td>\n",
       "      <td>164.0</td>\n",
       "    </tr>\n",
       "    <tr>\n",
       "      <th>596</th>\n",
       "      <td>femenino</td>\n",
       "      <td>63.0</td>\n",
       "      <td>160.0</td>\n",
       "    </tr>\n",
       "    <tr>\n",
       "      <th>597</th>\n",
       "      <td>masculino</td>\n",
       "      <td>70.0</td>\n",
       "      <td>163.0</td>\n",
       "    </tr>\n",
       "    <tr>\n",
       "      <th>598</th>\n",
       "      <td>masculino</td>\n",
       "      <td>75.0</td>\n",
       "      <td>169.0</td>\n",
       "    </tr>\n",
       "    <tr>\n",
       "      <th>599</th>\n",
       "      <td>femenino</td>\n",
       "      <td>66.0</td>\n",
       "      <td>157.0</td>\n",
       "    </tr>\n",
       "  </tbody>\n",
       "</table>\n",
       "<p>600 rows × 3 columns</p>\n",
       "</div>"
      ],
      "text/plain": [
       "           sex  weight (kg)  height (cm)\n",
       "0     femenino         60.0        160.0\n",
       "1    masculino         69.0        170.0\n",
       "2    masculino         73.0        167.0\n",
       "3          NaN         81.0        170.0\n",
       "4    masculino         80.0        170.0\n",
       "..         ...          ...          ...\n",
       "595   femenino         65.0        164.0\n",
       "596   femenino         63.0        160.0\n",
       "597  masculino         70.0        163.0\n",
       "598  masculino         75.0        169.0\n",
       "599   femenino         66.0        157.0\n",
       "\n",
       "[600 rows x 3 columns]"
      ]
     },
     "execution_count": 130,
     "metadata": {},
     "output_type": "execute_result"
    }
   ],
   "source": [
    "data = pd.read_csv(\"dataset.csv\")\n",
    "\n",
    "# Translate the dataset columns\n",
    "data.columns = [\"sex\", \"weight (kg)\", \"height (cm)\"]\n",
    "\n",
    "data"
   ]
  },
  {
   "cell_type": "code",
   "execution_count": 131,
   "metadata": {},
   "outputs": [
    {
     "data": {
      "text/plain": [
       "<Axes: xlabel='weight (kg)', ylabel='Count'>"
      ]
     },
     "execution_count": 131,
     "metadata": {},
     "output_type": "execute_result"
    },
    {
     "data": {
      "image/png": "[encoded data removed]",
      "text/plain": [
       "<Figure size 640x480 with 1 Axes>"
      ]
     },
     "metadata": {},
     "output_type": "display_data"
    }
   ],
   "source": [
    "sns.histplot(data = data, x = \"weight (kg)\", hue = \"sex\")"
   ]
  },
  {
   "cell_type": "code",
   "execution_count": 132,
   "metadata": {},
   "outputs": [
    {
     "data": {
      "text/plain": [
       "<Axes: xlabel='height (cm)', ylabel='Count'>"
      ]
     },
     "execution_count": 132,
     "metadata": {},
     "output_type": "execute_result"
    },
    {
     "data": {
      "image/png": "[encoded data removed]",
      "text/plain": [
       "<Figure size 640x480 with 1 Axes>"
      ]
     },
     "metadata": {},
     "output_type": "display_data"
    }
   ],
   "source": [
    "sns.histplot(data = data, x = \"height (cm)\", hue = \"sex\")"
   ]
  },
  {
   "cell_type": "markdown",
   "metadata": {},
   "source": [
    "## You can check for missing data in different ways\n",
    "\n",
    "1- The info method that shows a summary of the dataframe"
   ]
  },
  {
   "cell_type": "code",
   "execution_count": 133,
   "metadata": {},
   "outputs": [
    {
     "name": "stdout",
     "output_type": "stream",
     "text": [
      "<class 'pandas.core.frame.DataFrame'>\n",
      "RangeIndex: 600 entries, 0 to 599\n",
      "Data columns (total 3 columns):\n",
      " #   Column       Non-Null Count  Dtype  \n",
      "---  ------       --------------  -----  \n",
      " 0   sex          570 non-null    object \n",
      " 1   weight (kg)  600 non-null    float64\n",
      " 2   height (cm)  600 non-null    float64\n",
      "dtypes: float64(2), object(1)\n",
      "memory usage: 14.2+ KB\n"
     ]
    }
   ],
   "source": [
    "data.info()"
   ]
  },
  {
   "cell_type": "markdown",
   "metadata": {},
   "source": [
    "2- The isna method that it is used to detect missing values ​​for an array-like object."
   ]
  },
  {
   "cell_type": "code",
   "execution_count": 134,
   "metadata": {},
   "outputs": [
    {
     "data": {
      "text/plain": [
       "sex            30\n",
       "weight (kg)     0\n",
       "height (cm)     0\n",
       "dtype: int64"
      ]
     },
     "execution_count": 134,
     "metadata": {},
     "output_type": "execute_result"
    }
   ],
   "source": [
    "data.isna().sum()"
   ]
  },
  {
   "cell_type": "markdown",
   "metadata": {},
   "source": [
    "3- The value_counts method that returns an object containing, in descending order by default, the different values ​​included in the series along with the number of occurrences of each one."
   ]
  },
  {
   "cell_type": "code",
   "execution_count": 135,
   "metadata": {},
   "outputs": [
    {
     "data": {
      "text/plain": [
       "masculino    288\n",
       "femenino     282\n",
       "Name: sex, dtype: int64"
      ]
     },
     "execution_count": 135,
     "metadata": {},
     "output_type": "execute_result"
    }
   ],
   "source": [
    "data[\"sex\"].value_counts()"
   ]
  },
  {
   "cell_type": "markdown",
   "metadata": {},
   "source": [
    "## Ways to handle missing data for categorical variables\n",
    "\n",
    "1. Delete rows with missing records\n",
    "2. Delete the \"problematic\" column\n",
    "3. Impute with the most frequent category\n",
    "4. Impute using *Machine Learning* (**recommended**)"
   ]
  },
  {
   "cell_type": "markdown",
   "metadata": {},
   "source": [
    "### 1- Delete rows with missing records\n",
    "\n",
    "It simply consists of removing the entire row for each missing record.\n",
    "\n",
    "- Advantage: it is the simplest method!\n",
    "- Disadvantages:\n",
    "  - If the dataset is \"small\" deletion can significantly reduce its size\n",
    "  - The above can make subsequent tasks difficult, such as using *Machine Learning* models to generate predictions\n",
    "\n"
   ]
  },
  {
   "cell_type": "code",
   "execution_count": 136,
   "metadata": {},
   "outputs": [
    {
     "name": "stdout",
     "output_type": "stream",
     "text": [
      "<class 'pandas.core.frame.DataFrame'>\n",
      "Int64Index: 570 entries, 0 to 599\n",
      "Data columns (total 3 columns):\n",
      " #   Column       Non-Null Count  Dtype  \n",
      "---  ------       --------------  -----  \n",
      " 0   sex          570 non-null    object \n",
      " 1   weight (kg)  570 non-null    float64\n",
      " 2   height (cm)  570 non-null    float64\n",
      "dtypes: float64(2), object(1)\n",
      "memory usage: 17.8+ KB\n"
     ]
    }
   ],
   "source": [
    "delete_row = data.dropna(axis= 0)\n",
    "delete_row.info()"
   ]
  },
  {
   "cell_type": "markdown",
   "metadata": {},
   "source": [
    "### 2- Delete columns with missing records\n",
    "\n",
    "It simply consists of removing the \"problematic\" column:\n",
    "\n",
    "- Advantage: it is the simplest method!\n",
    "- Disadvantages:\n",
    "  - Removing the \"problem\" column may make subsequent tasks difficult\n",
    "  - Is it worth deleting an entire column when only a few pieces of data are missing?"
   ]
  },
  {
   "cell_type": "code",
   "execution_count": 137,
   "metadata": {},
   "outputs": [
    {
     "data": {
      "text/html": [
       "<div>\n",
       "<style scoped>\n",
       "    .dataframe tbody tr th:only-of-type {\n",
       "        vertical-align: middle;\n",
       "    }\n",
       "\n",
       "    .dataframe tbody tr th {\n",
       "        vertical-align: top;\n",
       "    }\n",
       "\n",
       "    .dataframe thead th {\n",
       "        text-align: right;\n",
       "    }\n",
       "</style>\n",
       "<table border=\"1\" class=\"dataframe\">\n",
       "  <thead>\n",
       "    <tr style=\"text-align: right;\">\n",
       "      <th></th>\n",
       "      <th>weight (kg)</th>\n",
       "      <th>height (cm)</th>\n",
       "    </tr>\n",
       "  </thead>\n",
       "  <tbody>\n",
       "    <tr>\n",
       "      <th>0</th>\n",
       "      <td>60.0</td>\n",
       "      <td>160.0</td>\n",
       "    </tr>\n",
       "    <tr>\n",
       "      <th>1</th>\n",
       "      <td>69.0</td>\n",
       "      <td>170.0</td>\n",
       "    </tr>\n",
       "    <tr>\n",
       "      <th>2</th>\n",
       "      <td>73.0</td>\n",
       "      <td>167.0</td>\n",
       "    </tr>\n",
       "    <tr>\n",
       "      <th>3</th>\n",
       "      <td>81.0</td>\n",
       "      <td>170.0</td>\n",
       "    </tr>\n",
       "    <tr>\n",
       "      <th>4</th>\n",
       "      <td>80.0</td>\n",
       "      <td>170.0</td>\n",
       "    </tr>\n",
       "    <tr>\n",
       "      <th>...</th>\n",
       "      <td>...</td>\n",
       "      <td>...</td>\n",
       "    </tr>\n",
       "    <tr>\n",
       "      <th>595</th>\n",
       "      <td>65.0</td>\n",
       "      <td>164.0</td>\n",
       "    </tr>\n",
       "    <tr>\n",
       "      <th>596</th>\n",
       "      <td>63.0</td>\n",
       "      <td>160.0</td>\n",
       "    </tr>\n",
       "    <tr>\n",
       "      <th>597</th>\n",
       "      <td>70.0</td>\n",
       "      <td>163.0</td>\n",
       "    </tr>\n",
       "    <tr>\n",
       "      <th>598</th>\n",
       "      <td>75.0</td>\n",
       "      <td>169.0</td>\n",
       "    </tr>\n",
       "    <tr>\n",
       "      <th>599</th>\n",
       "      <td>66.0</td>\n",
       "      <td>157.0</td>\n",
       "    </tr>\n",
       "  </tbody>\n",
       "</table>\n",
       "<p>600 rows × 2 columns</p>\n",
       "</div>"
      ],
      "text/plain": [
       "     weight (kg)  height (cm)\n",
       "0           60.0        160.0\n",
       "1           69.0        170.0\n",
       "2           73.0        167.0\n",
       "3           81.0        170.0\n",
       "4           80.0        170.0\n",
       "..           ...          ...\n",
       "595         65.0        164.0\n",
       "596         63.0        160.0\n",
       "597         70.0        163.0\n",
       "598         75.0        169.0\n",
       "599         66.0        157.0\n",
       "\n",
       "[600 rows x 2 columns]"
      ]
     },
     "execution_count": 137,
     "metadata": {},
     "output_type": "execute_result"
    }
   ],
   "source": [
    "delete_col = data.dropna(axis = 1)\n",
    "delete_col"
   ]
  },
  {
   "cell_type": "markdown",
   "metadata": {},
   "source": [
    "### 3- Impute with the most frequent category\n",
    "\n",
    "It consists of finding, in the \"problem\" column, the category (or level) that occurs most frequently and using it to fill in the missing data.\n",
    "\n",
    "- Advantage: neither rows nor columns are deleted.\n",
    "- Disadvantage: this imputation can generate biases\n"
   ]
  },
  {
   "cell_type": "code",
   "execution_count": 138,
   "metadata": {},
   "outputs": [
    {
     "data": {
      "text/plain": [
       "masculino    288\n",
       "femenino     282\n",
       "Name: sex, dtype: int64"
      ]
     },
     "execution_count": 138,
     "metadata": {},
     "output_type": "execute_result"
    }
   ],
   "source": [
    "# see the value that is repeated the most\n",
    "data[\"sex\"].value_counts()"
   ]
  },
  {
   "cell_type": "code",
   "execution_count": 139,
   "metadata": {},
   "outputs": [
    {
     "data": {
      "text/plain": [
       "0"
      ]
     },
     "execution_count": 139,
     "metadata": {},
     "output_type": "execute_result"
    }
   ],
   "source": [
    "# Generate a copy of the original DataFrame\n",
    "data_copy = data.copy()\n",
    "\n",
    "# Replace the missing data with the value that is repeated the most\n",
    "data_copy[\"sex\"] = data_copy[\"sex\"].fillna(\"male\")\n",
    "\n",
    "# Check for missing values\n",
    "data_copy[\"sex\"].isna().sum()"
   ]
  },
  {
   "cell_type": "markdown",
   "metadata": {},
   "source": [
    "### 4- Impute using *Machine Learning*\n",
    "\n",
    "**Advantages**\n",
    "- The amount of data is preserved\n",
    "- No biases are generated (as long as the model can be built correctly)\n",
    "\n",
    "**Disadvantages**\n",
    "- Sufficient data is required to train the model: there should not be too much missing data or too little training data\n",
    "- Depending on the data set, it is not always easy to build a model that generates adequate predictions\n",
    "\n",
    "**Step by step procedure**\n",
    "1. Create the training set: records containing complete data\n",
    "2. Create the test set: records containing incomplete data\n",
    "3. Choose and train the *Machine Learning* model with the training set\n",
    "4. Predict missing data with the trained model and the test set\n",
    "5. Incorporate the predicted data into the dataset\n"
   ]
  },
  {
   "cell_type": "markdown",
   "metadata": {},
   "source": [
    "### 1- Create the training set "
   ]
  },
  {
   "cell_type": "code",
   "execution_count": 140,
   "metadata": {},
   "outputs": [
    {
     "data": {
      "text/plain": [
       "(570, 3)"
      ]
     },
     "execution_count": 140,
     "metadata": {},
     "output_type": "execute_result"
    }
   ],
   "source": [
    "# Extract the rows that are complete\n",
    "training_set = data.dropna().to_numpy()\n",
    "training_set.shape"
   ]
  },
  {
   "cell_type": "markdown",
   "metadata": {},
   "source": [
    "#### Separate the training set"
   ]
  },
  {
   "cell_type": "code",
   "execution_count": 141,
   "metadata": {},
   "outputs": [
    {
     "data": {
      "text/plain": [
       "(array([[60.0, 160.0],\n",
       "        [69.0, 170.0],\n",
       "        [73.0, 167.0],\n",
       "        ...,\n",
       "        [70.0, 163.0],\n",
       "        [75.0, 169.0],\n",
       "        [66.0, 157.0]], dtype=object),\n",
       " array(['femenino', 'masculino', 'masculino', 'masculino', 'femenino',\n",
       "        'femenino', 'femenino', 'femenino', 'femenino', 'femenino',\n",
       "        'femenino', 'masculino', 'masculino', 'femenino', 'femenino',\n",
       "        'femenino', 'masculino', 'femenino', 'femenino', 'masculino',\n",
       "        'femenino', 'femenino', 'masculino', 'masculino', 'femenino',\n",
       "        'masculino', 'femenino', 'femenino', 'masculino', 'masculino',\n",
       "        'masculino', 'femenino', 'femenino', 'masculino', 'masculino',\n",
       "        'masculino', 'masculino', 'masculino', 'masculino', 'masculino',\n",
       "        'femenino', 'masculino', 'femenino', 'femenino', 'masculino',\n",
       "        'masculino', 'masculino', 'femenino', 'femenino', 'masculino',\n",
       "        'femenino', 'masculino', 'femenino', 'femenino', 'femenino',\n",
       "        'masculino', 'masculino', 'masculino', 'masculino', 'femenino',\n",
       "        'masculino', 'masculino', 'masculino', 'masculino', 'masculino',\n",
       "        'masculino', 'masculino', 'masculino', 'femenino', 'femenino',\n",
       "        'masculino', 'femenino', 'masculino', 'femenino', 'femenino',\n",
       "        'masculino', 'masculino', 'masculino', 'masculino', 'femenino',\n",
       "        'masculino', 'femenino', 'femenino', 'femenino', 'femenino',\n",
       "        'masculino', 'femenino', 'femenino', 'femenino', 'femenino',\n",
       "        'masculino', 'femenino', 'masculino', 'femenino', 'masculino',\n",
       "        'masculino', 'masculino', 'femenino', 'femenino', 'femenino',\n",
       "        'masculino', 'masculino', 'masculino', 'femenino', 'masculino',\n",
       "        'masculino', 'masculino', 'masculino', 'masculino', 'masculino',\n",
       "        'masculino', 'masculino', 'femenino', 'masculino', 'masculino',\n",
       "        'masculino', 'masculino', 'masculino', 'femenino', 'masculino',\n",
       "        'masculino', 'femenino', 'masculino', 'femenino', 'masculino',\n",
       "        'femenino', 'femenino', 'masculino', 'femenino', 'femenino',\n",
       "        'femenino', 'femenino', 'masculino', 'femenino', 'femenino',\n",
       "        'femenino', 'masculino', 'masculino', 'femenino', 'femenino',\n",
       "        'femenino', 'masculino', 'masculino', 'masculino', 'masculino',\n",
       "        'masculino', 'femenino', 'femenino', 'masculino', 'femenino',\n",
       "        'masculino', 'masculino', 'femenino', 'femenino', 'masculino',\n",
       "        'femenino', 'masculino', 'masculino', 'masculino', 'masculino',\n",
       "        'masculino', 'masculino', 'femenino', 'masculino', 'masculino',\n",
       "        'femenino', 'femenino', 'femenino', 'masculino', 'masculino',\n",
       "        'femenino', 'masculino', 'masculino', 'femenino', 'masculino',\n",
       "        'masculino', 'femenino', 'femenino', 'masculino', 'femenino',\n",
       "        'femenino', 'masculino', 'masculino', 'femenino', 'femenino',\n",
       "        'masculino', 'masculino', 'masculino', 'femenino', 'masculino',\n",
       "        'masculino', 'masculino', 'femenino', 'femenino', 'femenino',\n",
       "        'femenino', 'masculino', 'femenino', 'masculino', 'masculino',\n",
       "        'femenino', 'masculino', 'masculino', 'masculino', 'femenino',\n",
       "        'femenino', 'femenino', 'femenino', 'femenino', 'masculino',\n",
       "        'masculino', 'masculino', 'femenino', 'femenino', 'masculino',\n",
       "        'femenino', 'femenino', 'femenino', 'masculino', 'masculino',\n",
       "        'femenino', 'femenino', 'masculino', 'femenino', 'femenino',\n",
       "        'masculino', 'femenino', 'femenino', 'femenino', 'masculino',\n",
       "        'femenino', 'masculino', 'femenino', 'femenino', 'femenino',\n",
       "        'femenino', 'masculino', 'femenino', 'femenino', 'femenino',\n",
       "        'masculino', 'masculino', 'femenino', 'masculino', 'masculino',\n",
       "        'masculino', 'femenino', 'femenino', 'femenino', 'femenino',\n",
       "        'femenino', 'femenino', 'femenino', 'masculino', 'masculino',\n",
       "        'femenino', 'masculino', 'femenino', 'masculino', 'masculino',\n",
       "        'femenino', 'masculino', 'masculino', 'femenino', 'masculino',\n",
       "        'masculino', 'masculino', 'masculino', 'masculino', 'masculino',\n",
       "        'masculino', 'femenino', 'femenino', 'masculino', 'femenino',\n",
       "        'masculino', 'masculino', 'femenino', 'femenino', 'masculino',\n",
       "        'femenino', 'femenino', 'masculino', 'femenino', 'femenino',\n",
       "        'femenino', 'femenino', 'femenino', 'femenino', 'femenino',\n",
       "        'femenino', 'femenino', 'masculino', 'femenino', 'femenino',\n",
       "        'femenino', 'femenino', 'masculino', 'femenino', 'femenino',\n",
       "        'masculino', 'masculino', 'masculino', 'masculino', 'masculino',\n",
       "        'masculino', 'femenino', 'femenino', 'femenino', 'masculino',\n",
       "        'femenino', 'femenino', 'femenino', 'femenino', 'masculino',\n",
       "        'femenino', 'femenino', 'masculino', 'femenino', 'masculino',\n",
       "        'femenino', 'femenino', 'femenino', 'masculino', 'masculino',\n",
       "        'masculino', 'femenino', 'masculino', 'masculino', 'masculino',\n",
       "        'masculino', 'femenino', 'masculino', 'femenino', 'femenino',\n",
       "        'femenino', 'femenino', 'femenino', 'femenino', 'masculino',\n",
       "        'masculino', 'masculino', 'femenino', 'femenino', 'femenino',\n",
       "        'femenino', 'femenino', 'masculino', 'femenino', 'femenino',\n",
       "        'masculino', 'masculino', 'femenino', 'femenino', 'masculino',\n",
       "        'masculino', 'femenino', 'femenino', 'femenino', 'masculino',\n",
       "        'masculino', 'femenino', 'femenino', 'masculino', 'femenino',\n",
       "        'masculino', 'masculino', 'femenino', 'femenino', 'femenino',\n",
       "        'masculino', 'masculino', 'femenino', 'femenino', 'masculino',\n",
       "        'masculino', 'masculino', 'masculino', 'femenino', 'masculino',\n",
       "        'femenino', 'masculino', 'femenino', 'masculino', 'masculino',\n",
       "        'femenino', 'masculino', 'masculino', 'masculino', 'masculino',\n",
       "        'femenino', 'masculino', 'masculino', 'masculino', 'masculino',\n",
       "        'femenino', 'femenino', 'femenino', 'femenino', 'femenino',\n",
       "        'masculino', 'masculino', 'femenino', 'femenino', 'masculino',\n",
       "        'masculino', 'femenino', 'femenino', 'femenino', 'masculino',\n",
       "        'femenino', 'femenino', 'femenino', 'masculino', 'femenino',\n",
       "        'masculino', 'femenino', 'masculino', 'femenino', 'masculino',\n",
       "        'masculino', 'femenino', 'masculino', 'masculino', 'masculino',\n",
       "        'masculino', 'masculino', 'femenino', 'masculino', 'masculino',\n",
       "        'masculino', 'masculino', 'masculino', 'masculino', 'masculino',\n",
       "        'femenino', 'femenino', 'masculino', 'masculino', 'masculino',\n",
       "        'masculino', 'masculino', 'masculino', 'masculino', 'femenino',\n",
       "        'masculino', 'femenino', 'femenino', 'femenino', 'masculino',\n",
       "        'femenino', 'femenino', 'masculino', 'masculino', 'masculino',\n",
       "        'masculino', 'masculino', 'masculino', 'masculino', 'femenino',\n",
       "        'femenino', 'masculino', 'masculino', 'masculino', 'femenino',\n",
       "        'femenino', 'femenino', 'masculino', 'masculino', 'femenino',\n",
       "        'femenino', 'masculino', 'femenino', 'masculino', 'femenino',\n",
       "        'femenino', 'femenino', 'masculino', 'masculino', 'masculino',\n",
       "        'femenino', 'masculino', 'masculino', 'masculino', 'masculino',\n",
       "        'masculino', 'masculino', 'masculino', 'femenino', 'femenino',\n",
       "        'masculino', 'masculino', 'masculino', 'femenino', 'masculino',\n",
       "        'masculino', 'masculino', 'masculino', 'masculino', 'femenino',\n",
       "        'femenino', 'masculino', 'masculino', 'femenino', 'masculino',\n",
       "        'femenino', 'masculino', 'masculino', 'masculino', 'femenino',\n",
       "        'femenino', 'masculino', 'masculino', 'femenino', 'femenino',\n",
       "        'femenino', 'femenino', 'femenino', 'femenino', 'masculino',\n",
       "        'masculino', 'femenino', 'femenino', 'femenino', 'masculino',\n",
       "        'femenino', 'masculino', 'masculino', 'femenino', 'femenino',\n",
       "        'femenino', 'masculino', 'femenino', 'femenino', 'masculino',\n",
       "        'masculino', 'femenino', 'masculino', 'femenino', 'femenino',\n",
       "        'femenino', 'femenino', 'femenino', 'femenino', 'femenino',\n",
       "        'femenino', 'femenino', 'femenino', 'masculino', 'femenino',\n",
       "        'femenino', 'femenino', 'masculino', 'femenino', 'femenino',\n",
       "        'masculino', 'femenino', 'femenino', 'masculino', 'masculino',\n",
       "        'masculino', 'femenino', 'femenino', 'femenino', 'masculino',\n",
       "        'femenino', 'femenino', 'masculino', 'masculino', 'femenino'],\n",
       "       dtype=object))"
      ]
     },
     "execution_count": 141,
     "metadata": {},
     "output_type": "execute_result"
    }
   ],
   "source": [
    "# x_train: columns 1 and 2 (\"weight (kg)\" and \"height (cm)\")\n",
    "# y_train: column 0 (\"sex\")\n",
    "\n",
    "x_train = training_set[:, 1:3]\n",
    "y_train = training_set[:, 0]\n",
    "x_train, y_train"
   ]
  },
  {
   "cell_type": "markdown",
   "metadata": {},
   "source": [
    "### 2- Create the test set\n",
    "\n",
    "Rows with incomplete data and columns \"weight (kg)\" and \"height (cm)\""
   ]
  },
  {
   "cell_type": "code",
   "execution_count": 142,
   "metadata": {},
   "outputs": [
    {
     "data": {
      "text/plain": [
       "array([[ 81., 170.],\n",
       "       [ 68., 166.],\n",
       "       [ 62., 164.],\n",
       "       [ 63., 153.],\n",
       "       [ 57., 155.],\n",
       "       [ 63., 163.],\n",
       "       [ 73., 176.],\n",
       "       [ 64., 167.],\n",
       "       [ 71., 168.],\n",
       "       [ 80., 163.],\n",
       "       [ 69., 157.],\n",
       "       [ 58., 167.],\n",
       "       [ 72., 173.],\n",
       "       [ 62., 159.],\n",
       "       [ 66., 155.],\n",
       "       [ 66., 162.],\n",
       "       [ 58., 161.],\n",
       "       [ 87., 171.],\n",
       "       [ 68., 169.],\n",
       "       [ 67., 161.],\n",
       "       [ 58., 160.],\n",
       "       [ 62., 155.],\n",
       "       [ 63., 153.],\n",
       "       [ 70., 166.],\n",
       "       [ 60., 162.],\n",
       "       [ 65., 159.],\n",
       "       [ 71., 169.],\n",
       "       [ 70., 172.],\n",
       "       [ 63., 165.],\n",
       "       [ 63., 164.]])"
      ]
     },
     "execution_count": 142,
     "metadata": {},
     "output_type": "execute_result"
    }
   ],
   "source": [
    "# Incomplete rows\n",
    "rows = data[~data[\"sex\"].notna()].index\n",
    "\n",
    "# Only take this rows\n",
    "x_test = data[[\"weight (kg)\", \"height (cm)\"]].iloc[rows].to_numpy()\n",
    "x_test"
   ]
  },
  {
   "cell_type": "markdown",
   "metadata": {},
   "source": [
    "### 3- Model\n",
    "\n",
    "Before selecting the model we must transform the strings into numerical data so that the model can process them"
   ]
  },
  {
   "cell_type": "code",
   "execution_count": 143,
   "metadata": {},
   "outputs": [
    {
     "data": {
      "text/plain": [
       "array(['femenino', 'masculino'], dtype=object)"
      ]
     },
     "execution_count": 143,
     "metadata": {},
     "output_type": "execute_result"
    }
   ],
   "source": [
    "from sklearn.preprocessing import LabelEncoder\n",
    "\n",
    "# Create the model\n",
    "label_encoder = LabelEncoder()\n",
    "\n",
    "# Train the model\n",
    "label_encoder.fit(y_train)\n",
    "\n",
    "label_encoder.classes_"
   ]
  },
  {
   "cell_type": "code",
   "execution_count": 144,
   "metadata": {},
   "outputs": [
    {
     "data": {
      "text/plain": [
       "array([0, 1, 1, 1, 0, 0, 0, 0, 0, 0, 0, 1, 1, 0, 0, 0, 1, 0, 0, 1, 0, 0,\n",
       "       1, 1, 0, 1, 0, 0, 1, 1, 1, 0, 0, 1, 1, 1, 1, 1, 1, 1, 0, 1, 0, 0,\n",
       "       1, 1, 1, 0, 0, 1, 0, 1, 0, 0, 0, 1, 1, 1, 1, 0, 1, 1, 1, 1, 1, 1,\n",
       "       1, 1, 0, 0, 1, 0, 1, 0, 0, 1, 1, 1, 1, 0, 1, 0, 0, 0, 0, 1, 0, 0,\n",
       "       0, 0, 1, 0, 1, 0, 1, 1, 1, 0, 0, 0, 1, 1, 1, 0, 1, 1, 1, 1, 1, 1,\n",
       "       1, 1, 0, 1, 1, 1, 1, 1, 0, 1, 1, 0, 1, 0, 1, 0, 0, 1, 0, 0, 0, 0,\n",
       "       1, 0, 0, 0, 1, 1, 0, 0, 0, 1, 1, 1, 1, 1, 0, 0, 1, 0, 1, 1, 0, 0,\n",
       "       1, 0, 1, 1, 1, 1, 1, 1, 0, 1, 1, 0, 0, 0, 1, 1, 0, 1, 1, 0, 1, 1,\n",
       "       0, 0, 1, 0, 0, 1, 1, 0, 0, 1, 1, 1, 0, 1, 1, 1, 0, 0, 0, 0, 1, 0,\n",
       "       1, 1, 0, 1, 1, 1, 0, 0, 0, 0, 0, 1, 1, 1, 0, 0, 1, 0, 0, 0, 1, 1,\n",
       "       0, 0, 1, 0, 0, 1, 0, 0, 0, 1, 0, 1, 0, 0, 0, 0, 1, 0, 0, 0, 1, 1,\n",
       "       0, 1, 1, 1, 0, 0, 0, 0, 0, 0, 0, 1, 1, 0, 1, 0, 1, 1, 0, 1, 1, 0,\n",
       "       1, 1, 1, 1, 1, 1, 1, 0, 0, 1, 0, 1, 1, 0, 0, 1, 0, 0, 1, 0, 0, 0,\n",
       "       0, 0, 0, 0, 0, 0, 1, 0, 0, 0, 0, 1, 0, 0, 1, 1, 1, 1, 1, 1, 0, 0,\n",
       "       0, 1, 0, 0, 0, 0, 1, 0, 0, 1, 0, 1, 0, 0, 0, 1, 1, 1, 0, 1, 1, 1,\n",
       "       1, 0, 1, 0, 0, 0, 0, 0, 0, 1, 1, 1, 0, 0, 0, 0, 0, 1, 0, 0, 1, 1,\n",
       "       0, 0, 1, 1, 0, 0, 0, 1, 1, 0, 0, 1, 0, 1, 1, 0, 0, 0, 1, 1, 0, 0,\n",
       "       1, 1, 1, 1, 0, 1, 0, 1, 0, 1, 1, 0, 1, 1, 1, 1, 0, 1, 1, 1, 1, 0,\n",
       "       0, 0, 0, 0, 1, 1, 0, 0, 1, 1, 0, 0, 0, 1, 0, 0, 0, 1, 0, 1, 0, 1,\n",
       "       0, 1, 1, 0, 1, 1, 1, 1, 1, 0, 1, 1, 1, 1, 1, 1, 1, 0, 0, 1, 1, 1,\n",
       "       1, 1, 1, 1, 0, 1, 0, 0, 0, 1, 0, 0, 1, 1, 1, 1, 1, 1, 1, 0, 0, 1,\n",
       "       1, 1, 0, 0, 0, 1, 1, 0, 0, 1, 0, 1, 0, 0, 0, 1, 1, 1, 0, 1, 1, 1,\n",
       "       1, 1, 1, 1, 0, 0, 1, 1, 1, 0, 1, 1, 1, 1, 1, 0, 0, 1, 1, 0, 1, 0,\n",
       "       1, 1, 1, 0, 0, 1, 1, 0, 0, 0, 0, 0, 0, 1, 1, 0, 0, 0, 1, 0, 1, 1,\n",
       "       0, 0, 0, 1, 0, 0, 1, 1, 0, 1, 0, 0, 0, 0, 0, 0, 0, 0, 0, 0, 1, 0,\n",
       "       0, 0, 1, 0, 0, 1, 0, 0, 1, 1, 1, 0, 0, 0, 1, 0, 0, 1, 1, 0])"
      ]
     },
     "execution_count": 144,
     "metadata": {},
     "output_type": "execute_result"
    }
   ],
   "source": [
    "# Transform it\n",
    "y_train = label_encoder.transform(y_train)\n",
    "y_train"
   ]
  },
  {
   "cell_type": "markdown",
   "metadata": {},
   "source": [
    "**Logistic regression** is a type of statistical model used to predict the probability of a binary event occurring. \n",
    "\n",
    "In logistic regression, a logistic function is used to model the relationship between one or more independent variables (predictors) and the dependent variable (target), which generally represents the probability of an event occurring. The model takes into account the characteristics of the independent variables to estimate the probability that the dependent variable belongs to one of the two categories.\n",
    "\n",
    "The logistic function transforms the linear combination of the independent variables into a probability that is always in the range 0 to 1. This transformation is useful for modeling binary classification problems and for interpreting the results in terms of probabilities.\n",
    "\n"
   ]
  },
  {
   "cell_type": "code",
   "execution_count": 145,
   "metadata": {},
   "outputs": [
    {
     "data": {
      "text/plain": [
       "array([0, 1])"
      ]
     },
     "execution_count": 145,
     "metadata": {},
     "output_type": "execute_result"
    }
   ],
   "source": [
    "from sklearn.linear_model import LogisticRegression\n",
    "\n",
    "# Create the model\n",
    "logistic_regression = LogisticRegression()\n",
    "\n",
    "# Train the model\n",
    "logistic_regression.fit(x_train, y_train)\n",
    "\n",
    "logistic_regression.classes_"
   ]
  },
  {
   "cell_type": "markdown",
   "metadata": {},
   "source": [
    "### 4- Predict missing data with the trained model and the test set"
   ]
  },
  {
   "cell_type": "code",
   "execution_count": 146,
   "metadata": {},
   "outputs": [
    {
     "data": {
      "text/plain": [
       "array(['masculino', 'masculino', 'femenino', 'femenino', 'femenino',\n",
       "       'femenino', 'masculino', 'masculino', 'masculino', 'masculino',\n",
       "       'femenino', 'femenino', 'masculino', 'femenino', 'femenino',\n",
       "       'femenino', 'femenino', 'masculino', 'masculino', 'femenino',\n",
       "       'femenino', 'femenino', 'femenino', 'masculino', 'femenino',\n",
       "       'femenino', 'masculino', 'masculino', 'femenino', 'femenino'],\n",
       "      dtype=object)"
      ]
     },
     "execution_count": 146,
     "metadata": {},
     "output_type": "execute_result"
    }
   ],
   "source": [
    "# Generate the prediction\n",
    "prediction = logistic_regression.predict(x_test)\n",
    "\n",
    "# Do the inverse transformation. Convert numerical data into strings\n",
    "categories = label_encoder.inverse_transform(prediction)\n",
    "categories"
   ]
  },
  {
   "cell_type": "markdown",
   "metadata": {},
   "source": [
    "### 5- Incorporate the predicted data into the dataset\n"
   ]
  },
  {
   "cell_type": "code",
   "execution_count": 147,
   "metadata": {},
   "outputs": [
    {
     "data": {
      "text/html": [
       "<div>\n",
       "<style scoped>\n",
       "    .dataframe tbody tr th:only-of-type {\n",
       "        vertical-align: middle;\n",
       "    }\n",
       "\n",
       "    .dataframe tbody tr th {\n",
       "        vertical-align: top;\n",
       "    }\n",
       "\n",
       "    .dataframe thead th {\n",
       "        text-align: right;\n",
       "    }\n",
       "</style>\n",
       "<table border=\"1\" class=\"dataframe\">\n",
       "  <thead>\n",
       "    <tr style=\"text-align: right;\">\n",
       "      <th></th>\n",
       "      <th>sex</th>\n",
       "      <th>weight (kg)</th>\n",
       "      <th>height (cm)</th>\n",
       "    </tr>\n",
       "  </thead>\n",
       "  <tbody>\n",
       "    <tr>\n",
       "      <th>0</th>\n",
       "      <td>femenino</td>\n",
       "      <td>60.0</td>\n",
       "      <td>160.0</td>\n",
       "    </tr>\n",
       "    <tr>\n",
       "      <th>1</th>\n",
       "      <td>masculino</td>\n",
       "      <td>69.0</td>\n",
       "      <td>170.0</td>\n",
       "    </tr>\n",
       "    <tr>\n",
       "      <th>2</th>\n",
       "      <td>masculino</td>\n",
       "      <td>73.0</td>\n",
       "      <td>167.0</td>\n",
       "    </tr>\n",
       "    <tr>\n",
       "      <th>3</th>\n",
       "      <td>masculino</td>\n",
       "      <td>81.0</td>\n",
       "      <td>170.0</td>\n",
       "    </tr>\n",
       "    <tr>\n",
       "      <th>4</th>\n",
       "      <td>masculino</td>\n",
       "      <td>80.0</td>\n",
       "      <td>170.0</td>\n",
       "    </tr>\n",
       "    <tr>\n",
       "      <th>...</th>\n",
       "      <td>...</td>\n",
       "      <td>...</td>\n",
       "      <td>...</td>\n",
       "    </tr>\n",
       "    <tr>\n",
       "      <th>595</th>\n",
       "      <td>femenino</td>\n",
       "      <td>65.0</td>\n",
       "      <td>164.0</td>\n",
       "    </tr>\n",
       "    <tr>\n",
       "      <th>596</th>\n",
       "      <td>femenino</td>\n",
       "      <td>63.0</td>\n",
       "      <td>160.0</td>\n",
       "    </tr>\n",
       "    <tr>\n",
       "      <th>597</th>\n",
       "      <td>masculino</td>\n",
       "      <td>70.0</td>\n",
       "      <td>163.0</td>\n",
       "    </tr>\n",
       "    <tr>\n",
       "      <th>598</th>\n",
       "      <td>masculino</td>\n",
       "      <td>75.0</td>\n",
       "      <td>169.0</td>\n",
       "    </tr>\n",
       "    <tr>\n",
       "      <th>599</th>\n",
       "      <td>femenino</td>\n",
       "      <td>66.0</td>\n",
       "      <td>157.0</td>\n",
       "    </tr>\n",
       "  </tbody>\n",
       "</table>\n",
       "<p>600 rows × 3 columns</p>\n",
       "</div>"
      ],
      "text/plain": [
       "           sex  weight (kg)  height (cm)\n",
       "0     femenino         60.0        160.0\n",
       "1    masculino         69.0        170.0\n",
       "2    masculino         73.0        167.0\n",
       "3    masculino         81.0        170.0\n",
       "4    masculino         80.0        170.0\n",
       "..         ...          ...          ...\n",
       "595   femenino         65.0        164.0\n",
       "596   femenino         63.0        160.0\n",
       "597  masculino         70.0        163.0\n",
       "598  masculino         75.0        169.0\n",
       "599   femenino         66.0        157.0\n",
       "\n",
       "[600 rows x 3 columns]"
      ]
     },
     "execution_count": 147,
     "metadata": {},
     "output_type": "execute_result"
    }
   ],
   "source": [
    "data_ml = data.copy()\n",
    "data_ml.iloc[rows, 0] = categories\n",
    "data_ml"
   ]
  },
  {
   "cell_type": "code",
   "execution_count": 148,
   "metadata": {},
   "outputs": [
    {
     "data": {
      "text/plain": [
       "0"
      ]
     },
     "execution_count": 148,
     "metadata": {},
     "output_type": "execute_result"
    }
   ],
   "source": [
    "data_ml[\"sex\"].isna().sum()"
   ]
  }
 ],
 "metadata": {
  "kernelspec": {
   "display_name": "Python 3",
   "language": "python",
   "name": "python3"
  },
  "language_info": {
   "codemirror_mode": {
    "name": "ipython",
    "version": 3
   },
   "file_extension": ".py",
   "mimetype": "text/x-python",
   "name": "python",
   "nbconvert_exporter": "python",
   "pygments_lexer": "ipython3",
   "version": "3.11.5"
  },
  "orig_nbformat": 4
 },
 "nbformat": 4,
 "nbformat_minor": 2
}
